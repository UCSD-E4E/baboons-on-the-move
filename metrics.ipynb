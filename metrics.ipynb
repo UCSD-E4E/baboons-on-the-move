{
 "cells": [
  {
   "cell_type": "code",
   "execution_count": 15,
   "metadata": {},
   "outputs": [
    {
     "name": "stdout",
     "output_type": "stream",
     "text": [
      "The autoreload extension is already loaded. To reload it, use:\n",
      "  %reload_ext autoreload\n"
     ]
    }
   ],
   "source": [
    "%load_ext autoreload\n",
    "%autoreload 2\n",
    "\n",
    "from os import makedirs\n",
    "from os.path import exists\n",
    "from shutil import copy\n",
    "from sqlite3 import connect\n",
    "from baboon_tracking import BaboonTracker\n",
    "from library.dataset import get_dataset_path, get_dataset_list\n",
    "from library.region import bb_intersection_over_union\n",
    "\n",
    "import numpy as np\n",
    "import pandas as pd\n",
    "\n",
    "runtime_config = {\"display\": False, \"save\": True, \"timings\": False}\n",
    "\n",
    "video_files = [\n",
    "    \"VISO/car/003\", # Video 1\n",
    "    \"VISO/car/009\", # Video 7\n",
    "]"
   ]
  },
  {
   "cell_type": "code",
   "execution_count": 16,
   "metadata": {},
   "outputs": [
    {
     "name": "stdout",
     "output_type": "stream",
     "text": [
      "https://e4e-nas.ucsd.edu:5001/webapi/auth.cgi?api=SYNO.API.Auth\n",
      "{'data': {'sid': 'HzbXdiP118pcwkYH4AachMmjteQKYetxnwllR-1ZVQsDNJ1kMfTVSXICQBoFpQqycfz-kChKrT9f0alW7Huoig'}, 'success': True}\n"
     ]
    },
    {
     "name": "stderr",
     "output_type": "stream",
     "text": [
      "100%|██████████| 2/2 [00:00<00:00,  3.65it/s]\n",
      " 31%|███       | 92/300 [00:23<00:55,  3.74it/s]"
     ]
    }
   ],
   "source": [
    "# video_files = get_dataset_list(\"VISO\")\n",
    "\n",
    "for video_file in video_files:\n",
    "    results_path = f\"./output/results/{video_file}/results.db\"\n",
    "    if exists(results_path):\n",
    "        continue\n",
    "\n",
    "    path = get_dataset_path(video_file)\n",
    "\n",
    "    baboon_tracker = BaboonTracker(path, runtime_config=runtime_config)\n",
    "    baboon_tracker.run()\n",
    "\n",
    "    makedirs(f\"./output/results/{video_file}\", exist_ok=True)\n",
    "    copy(\"./output/results.db\", results_path)"
   ]
  },
  {
   "cell_type": "code",
   "execution_count": null,
   "metadata": {},
   "outputs": [
    {
     "name": "stdout",
     "output_type": "stream",
     "text": [
      "Recall: 0.6029016321680946, Precision: 0.19132764437388372, F1: 0.2904746840210301\n"
     ]
    }
   ],
   "source": [
    "for video_file in video_files:\n",
    "    file_name = f\"./output/results/{video_file}/results.db\"\n",
    "\n",
    "    with connect(file_name) as connection:\n",
    "        cursor = connection.cursor()\n",
    "\n",
    "        ground_truth = pd.read_csv(f\"./data/Datasets/{video_file}/gt/gt.txt\").to_numpy()\n",
    "        found_regions = cursor.execute(\n",
    "            \"SELECT x1, y1, x2, y2, frame FROM motion_regions\"\n",
    "        )\n",
    "\n",
    "        curr_frame = -1\n",
    "        true_positive = 0\n",
    "        false_negative = 0\n",
    "        false_positive = 0\n",
    "        truth = None\n",
    "        for x1, y1, x2, y2, frame in found_regions:\n",
    "            if curr_frame != frame:\n",
    "                if truth is not None:\n",
    "                    false_negative += truth.shape[0]\n",
    "\n",
    "                truth = np.array(\n",
    "                    [\n",
    "                        (x1, y1, x1 + width, y1 + height)\n",
    "                        for x1, y1, width, height in ground_truth[\n",
    "                            ground_truth[:, 0] == frame, 2:6\n",
    "                        ]\n",
    "                    ]\n",
    "                )\n",
    "                curr_frame = frame\n",
    "\n",
    "            current = (x1, y1, x2, y2)\n",
    "            matches = np.array([bb_intersection_over_union(current, t) for t in truth])\n",
    "\n",
    "            if np.sum(matches) > 0:\n",
    "                true_positive += 1\n",
    "                truth = truth[np.logical_not(matches == np.max(matches))]\n",
    "            else:\n",
    "                false_positive += 1\n",
    "\n",
    "        recall = true_positive / (false_negative + true_positive)\n",
    "        precision = true_positive / (true_positive + false_positive)\n",
    "        f1 = (2 * recall * precision) / (recall + precision)\n",
    "\n",
    "        print(f\"Recall: {recall}, Precision: {precision}, F1: {f1}\")"
   ]
  }
 ],
 "metadata": {
  "interpreter": {
   "hash": "b93de7f5c1adcbd91c4dac5eba592329dbcd80c30145dd72ac63134353aa09bc"
  },
  "kernelspec": {
   "display_name": "Python 3.8.12 ('baboon-tracking-q7VIGxQd-py3.8')",
   "language": "python",
   "name": "python3"
  },
  "language_info": {
   "codemirror_mode": {
    "name": "ipython",
    "version": 3
   },
   "file_extension": ".py",
   "mimetype": "text/x-python",
   "name": "python",
   "nbconvert_exporter": "python",
   "pygments_lexer": "ipython3",
   "version": "3.8.12"
  },
  "orig_nbformat": 4
 },
 "nbformat": 4,
 "nbformat_minor": 2
}
